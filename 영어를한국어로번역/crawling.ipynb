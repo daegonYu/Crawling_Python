{
 "cells": [
  {
   "cell_type": "code",
   "execution_count": null,
   "metadata": {},
   "outputs": [],
   "source": [
    "from selenium import webdriver\n",
    "from selenium.webdriver.common.by import By\n",
    "from selenium.webdriver.support.ui import WebDriverWait\n",
    "from selenium.webdriver.support import expected_conditions as EC\n",
    "from time import sleep\n",
    "from IPython.display import clear_output \n",
    "import pandas as pd\n",
    "\n",
    "d = pd.read_excel('refined_datafile.xlsx',index_col=0)\n",
    "d2 = pd.read_excel('d2.xlsx', index_col=0)\n",
    "\n",
    "options = webdriver.ChromeOptions()\n",
    "options.add_argument(\"headless\")\n",
    "\n",
    "driver = webdriver.Chrome('chromedriver.exe', chrome_options=options)\n",
    "driver.get('https://papago.naver.com/')\n",
    "driver.maximize_window()\n",
    "\n",
    "english = driver.find_element_by_xpath('/html/body/div/div/div[1]/section/div/div[1]/div[1]/div/div[3]/label/textarea')\n",
    "\n",
    "iter = 50\n",
    "prev = 0\n",
    "for i in range(30 * iter + 1):   \n",
    "    text = d.iloc[len(d2)][1]    \n",
    "    english.send_keys(text)\n",
    "    # element = WebDriverWait(driver, 10).until(EC.presence_of_element_located((By.XPATH, \"/html/body/div/div/div[1]/section/div/div[1]/div[2]/div/div[5]/div.span\")))\n",
    "    clear_output()\n",
    "    output_text = ' '\n",
    "    if len(text) > 1500:\n",
    "        sleep(10)\n",
    "    else:\n",
    "        sleep(5)\n",
    "    try:\n",
    "        korean = driver.find_element_by_xpath('/html/body/div/div/div[1]/section/div/div[1]/div[2]/div/div[5]/div/span')\n",
    "        output_text = korean.text\n",
    "    except:\n",
    "        output_text = ' '\n",
    "    \n",
    "    if output_text == prev:\n",
    "        output_text = ' '\n",
    "\n",
    "    print(output_text, 'end')\n",
    "\n",
    "    d2.loc[len(d2)] = output_text\n",
    "    english.clear()\n",
    "\n",
    "    prev = output_text\n",
    "    \n",
    "    if i % 30 == 0:\n",
    "        d2.to_excel('d2.xlsx')\n",
    "\n",
    "    # driver.find_element_by_xpath('/html/body/div/div/div[1]/section/div/div[1]/div[2]/div/div[5]/div/span').clear()\n",
    "\n",
    "d2\n",
    "driver.quit()"
   ]
  },
  {
   "cell_type": "code",
   "execution_count": null,
   "metadata": {},
   "outputs": [],
   "source": [
    "# d2 초기화\n",
    "d2 = d2.drop(range(len(d2)), axis=0)\n",
    "d2"
   ]
  },
  {
   "cell_type": "code",
   "execution_count": 1,
   "metadata": {},
   "outputs": [
    {
     "data": {
      "text/plain": [
       "10"
      ]
     },
     "execution_count": 1,
     "metadata": {},
     "output_type": "execute_result"
    }
   ],
   "source": [
    "len('3333333333')"
   ]
  }
 ],
 "metadata": {
  "kernelspec": {
   "display_name": "Python 3.9.7 ('base')",
   "language": "python",
   "name": "python3"
  },
  "language_info": {
   "codemirror_mode": {
    "name": "ipython",
    "version": 3
   },
   "file_extension": ".py",
   "mimetype": "text/x-python",
   "name": "python",
   "nbconvert_exporter": "python",
   "pygments_lexer": "ipython3",
   "version": "3.9.7"
  },
  "orig_nbformat": 4,
  "vscode": {
   "interpreter": {
    "hash": "f9174c9ebe86b0f70b9971c3ade2417de741f86d13787aa44591ecaa8f13b2a5"
   }
  }
 },
 "nbformat": 4,
 "nbformat_minor": 2
}
